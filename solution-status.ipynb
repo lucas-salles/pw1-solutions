{
  "nbformat": 4,
  "nbformat_minor": 0,
  "metadata": {
    "colab": {
      "name": "Untitled0.ipynb",
      "provenance": [],
      "collapsed_sections": []
    },
    "kernelspec": {
      "name": "python3",
      "display_name": "Python 3"
    }
  },
  "cells": [
    {
      "cell_type": "code",
      "execution_count": 1,
      "metadata": {},
      "outputs": [],
      "source": [
        "import os\n",
        "import json\n",
        "import pandas as pd\n",
        "\n",
        "students = (\n",
        "  'erick.cristhian',\n",
        "  'francisco.cipriano',\n",
        "  'joseph.adrian',\n",
        "  'karoline.lima',\n",
        "  'lucas.rodrigues',\n",
        "  'lucas.sales',\n",
        "  'mauricio.pereira',\n",
        "  'paulo.beserra',\n",
        "  'oliveira.rafael',\n",
        "  'renato.cesar',\n",
        "  'romero.reis',\n",
        "  'william.oliveira',\n",
        "  'yane.lisset'\n",
        ")\n",
        "categories = ('laravel', 'php-core', 'php-web')\n",
        "status = {}\n",
        "\n",
        "for student in students:\n",
        "  status[student] = {}\n",
        "  for category in categories:\n",
        "    problems = os.listdir(category)\n",
        "    for problem in problems:\n",
        "      path = f'{category}/{problem}/{student}'\n",
        "      status[student][problem] = os.path.isdir(path) or os.path.isfile(f'{path}.php')\n",
        "\n",
        "# print(json.dumps(status, indent=4, sort_keys=True))\n",
        "df = pd.DataFrame(status)\n",
        "# print(df)"
      ]
    },
    {
      "cell_type": "code",
      "execution_count": 3,
      "metadata": {},
      "outputs": [
        {
          "data": {
            "text/plain": "mauricio.pereira      36\nlucas.sales           30\nlucas.rodrigues       14\noliveira.rafael       11\nyane.lisset            6\nkaroline.lima          6\nfrancisco.cipriano     5\nromero.reis            3\njoseph.adrian          3\nerick.cristhian        3\nwilliam.oliveira       1\nrenato.cesar           1\npaulo.beserra          1\ndtype: int64"
          },
          "execution_count": 3,
          "metadata": {},
          "output_type": "execute_result"
        }
      ],
      "source": [
        "df[df==True].count(axis=0).sort_values(ascending=False)"
      ]
    },
    {
      "cell_type": "code",
      "execution_count": 4,
      "metadata": {},
      "outputs": [
        {
          "data": {
            "text/plain": "array-roman-number              1\nfunction-figure-text            1\narray-sum-all-numbers           1\nobject-company-collection       1\nobject-order-item-oo            1\nobject-exam                     1\nfunction_sum                    1\nmvc                             2\narray-min-withdraw              2\narray-fibonacci-sequence        2\nobject-order-oo                 2\narray-prime-numbers             2\narray-products-qtd              2\narray-operations                2\narray-matrix-operations         2\narray-products                  2\narray-prime-factors             2\nfunction-area-of-circle         3\ncrud-plus                       3\ncrud                            3\nobject-comics                   3\nfunction-triangle-checker       3\nfunction-calc                   3\nfunction-prime-nth              3\nfunction-fibonacci-number       3\nfunction-fibonacci-sequence     3\nfunction-prime                  3\narray-util                      3\nobject-company                  3\nfunction-factorial              4\nfunction-sum                    5\nbasic-irrf                      6\nbasic-numbers                   6\nbasic-harmonic-series           7\nbasic-bmi                       8\nbasic-hello                     9\nauth-crud                      12\ndtype: int64"
          },
          "execution_count": 4,
          "metadata": {},
          "output_type": "execute_result"
        }
      ],
      "source": [
        "df[df==True].count(axis=1).sort_values(ascending=True)"
      ]
    },
    {
      "cell_type": "code",
      "execution_count": 5,
      "metadata": {},
      "outputs": [
        {
          "name": "stdout",
          "output_type": "stream",
          "text": "120\n"
        }
      ],
      "source": [
        "print(df[df==True].count().sum())"
      ]
    }
  ]
}